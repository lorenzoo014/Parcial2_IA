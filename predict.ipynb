{
 "cells": [
  {
   "cell_type": "code",
   "execution_count": 1,
   "id": "71f4c7e4-6959-40ed-af98-be770d48c6d8",
   "metadata": {},
   "outputs": [],
   "source": [
    "#Importaciones\n",
    "import glob\n",
    "import cv2\n",
    "import torch\n",
    "import torch.nn as nn\n",
    "from numpy import argmax\n",
    "from pymongo import MongoClient\n",
    "from torchvision import transforms\n",
    "import math"
   ]
  },
  {
   "cell_type": "code",
   "execution_count": 2,
   "id": "f50c30df-e837-4c63-8d3c-fce5f9313cf8",
   "metadata": {},
   "outputs": [],
   "source": [
    "try:\n",
    "    # Conectar a la db, host y puerto\n",
    "    conn = MongoClient(host='localhost', port=27017)\n",
    "    # Obtener base de datos\n",
    "    db = conn.local\n",
    "except:\n",
    "    pass"
   ]
  },
  {
   "cell_type": "code",
   "execution_count": 3,
   "id": "255c2b2d-3aee-4351-8700-578e32a31657",
   "metadata": {},
   "outputs": [
    {
     "name": "stdout",
     "output_type": "stream",
     "text": [
      "Aciertos:  219\n",
      "Casi aciertos:  14\n",
      "Fallos:  234\n"
     ]
    }
   ],
   "source": [
    "# Definir modelo\n",
    "class scratch_nn(nn.Module):\n",
    "    def __init__(self):\n",
    "        super().__init__()\n",
    "        self.conv1 = nn.Conv2d(in_channels=3, out_channels=100, kernel_size=5, stride=1, padding=0)\n",
    "        self.conv2 = nn.Conv2d(100, 200, 3, stride=1, padding=0)\n",
    "        self.conv3 = nn.Conv2d(200, 400, 3, stride=1, padding=0)\n",
    "        self.mpool = nn.MaxPool2d(kernel_size=3)\n",
    "        self.relu = nn.ReLU()\n",
    "        self.linear1 = nn.Linear(19600,1024)\n",
    "        self.linear2 = nn.Linear(1024,512)\n",
    "        self.linear3 = nn.Linear(512,7)\n",
    "        self.classifier = nn.Softmax(dim=1)\n",
    "\n",
    "    def forward(self,x):\n",
    "        x = self.mpool( self.relu(self.conv1(x)) )\n",
    "        x = self.mpool( self.relu(self.conv2(x)) )\n",
    "        x = self.mpool( self.relu(self.conv3(x)) )\n",
    "        x = torch.flatten(x, start_dim=1)\n",
    "        x = self.linear1(x)\n",
    "        x = self.linear2(x)\n",
    "        x = self.linear3(x)\n",
    "        x = self.classifier(x)\n",
    "        return x\n",
    "\n",
    "# Cargar modelo entrenado\n",
    "device = torch.device(\"cuda\" if torch.cuda.is_available() else \"cpu\")\n",
    "model = scratch_nn()\n",
    "model.load_state_dict(torch.load(\"vehicles_model.pth\", map_location=torch.device('cpu')))\n",
    "model.eval()\n",
    "model = model.to(device)\n",
    "\n",
    "# Definir preprocesados de la imagen\n",
    "data_transform = transforms.Compose([\n",
    "    transforms.ToTensor(),\n",
    "    transforms.Resize((224, 224),antialias=None),\n",
    "])\n",
    "\n",
    "\n",
    "def selection(url):\n",
    "    label=open(url, 'r').read()\n",
    "    array=label.split(\"\\n\")\n",
    "    array.pop()\n",
    "    dist=100\n",
    "    for coord in array:\n",
    "        coord=coord.split(\" \")\n",
    "        distaux=math.sqrt((0.5-float(coord[1]))**2+(0.5-float(coord[2]))**2)\n",
    "        if distaux<dist:\n",
    "            dist=distaux\n",
    "            eleccion=coord\n",
    "    return int(eleccion[0])\n",
    "\n",
    "\n",
    "# Realizar la prediccion de todas las imagenes en la carpeta\n",
    "aciertos=0\n",
    "casi_aciertos=0\n",
    "fallos=0\n",
    "for image_path in glob.glob(\"test/images/*.jpg\"):\n",
    "    img_orig = cv2.imread(image_path)\n",
    "    img = data_transform(img_orig).unsqueeze(0).to(device)\n",
    "    outputs = model(img)\n",
    "    outputs = outputs.detach().cpu().numpy()\n",
    "    output = argmax(outputs, axis=1)[0]\n",
    "    label_path=image_path.replace('images','labels').replace(\".jpg\",\".txt\")\n",
    "    label=int(selection(label_path))\n",
    "    outputs2=outputs.tolist()\n",
    "    outputs2[0].pop(output)\n",
    "    output2=argmax(outputs2, axis=1)[0]\n",
    "    if int(output)==label:\n",
    "        aciertos+=1\n",
    "    elif int(output2)==label:\n",
    "        casi_aciertos+=1\n",
    "    else:\n",
    "        fallos+=1\n",
    "\n",
    "print(\"Aciertos: \",aciertos)\n",
    "print(\"Casi aciertos: \",casi_aciertos)\n",
    "print(\"Fallos: \",fallos)\n"
   ]
  },
  {
   "cell_type": "markdown",
   "id": "166919e8-66ad-4224-9c7e-50b7bd859b65",
   "metadata": {},
   "source": [
    "Esta predicción es buena ya que tiene que diferenciar entre 7 tipos distintos y el conjunto de datos no es muy bueno, hemos tenido que eliminar imagenes del el que impedian hacer el entrenamiento."
   ]
  },
  {
   "cell_type": "code",
   "execution_count": null,
   "id": "4bcda02c-fd9f-4561-a23b-e3a8de1b0f8c",
   "metadata": {},
   "outputs": [],
   "source": []
  }
 ],
 "metadata": {
  "kernelspec": {
   "display_name": "Python 3 (ipykernel)",
   "language": "python",
   "name": "python3"
  },
  "language_info": {
   "codemirror_mode": {
    "name": "ipython",
    "version": 3
   },
   "file_extension": ".py",
   "mimetype": "text/x-python",
   "name": "python",
   "nbconvert_exporter": "python",
   "pygments_lexer": "ipython3",
   "version": "3.9.12"
  }
 },
 "nbformat": 4,
 "nbformat_minor": 5
}
